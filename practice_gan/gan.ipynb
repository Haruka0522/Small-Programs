{
  "nbformat": 4,
  "nbformat_minor": 0,
  "metadata": {
    "colab": {
      "name": "gan.ipynb",
      "provenance": [],
      "authorship_tag": "ABX9TyM9MJJi0b4dHBifxj7ToEk1",
      "include_colab_link": true
    },
    "kernelspec": {
      "name": "python3",
      "display_name": "Python 3"
    },
    "accelerator": "GPU"
  },
  "cells": [
    {
      "cell_type": "markdown",
      "metadata": {
        "id": "view-in-github",
        "colab_type": "text"
      },
      "source": [
        "<a href=\"https://colab.research.google.com/github/Haruka0522/Small-Programs/blob/master/practice_gan/gan.ipynb\" target=\"_parent\"><img src=\"https://colab.research.google.com/assets/colab-badge.svg\" alt=\"Open In Colab\"/></a>"
      ]
    },
    {
      "cell_type": "code",
      "metadata": {
        "id": "LTlAW5TehXv6",
        "colab_type": "code",
        "colab": {
          "base_uri": "https://localhost:8080/",
          "height": 34
        },
        "outputId": "bbf7956b-09d2-4abc-eadf-781fb0926f66"
      },
      "source": [
        "%matplotlib inline\n",
        "%tensorflow_version 1.x"
      ],
      "execution_count": 1,
      "outputs": [
        {
          "output_type": "stream",
          "text": [
            "TensorFlow 1.x selected.\n"
          ],
          "name": "stdout"
        }
      ]
    },
    {
      "cell_type": "code",
      "metadata": {
        "id": "rnrxBeOHjHji",
        "colab_type": "code",
        "colab": {
          "base_uri": "https://localhost:8080/",
          "height": 34
        },
        "outputId": "bc7d9158-6403-4737-ba93-2d9370a9f571"
      },
      "source": [
        "from google.colab import drive\n",
        "drive.mount(\"/content/drive\")"
      ],
      "execution_count": 2,
      "outputs": [
        {
          "output_type": "stream",
          "text": [
            "Mounted at /content/drive\n"
          ],
          "name": "stdout"
        }
      ]
    },
    {
      "cell_type": "code",
      "metadata": {
        "id": "O9v-npd9jPAQ",
        "colab_type": "code",
        "colab": {
          "base_uri": "https://localhost:8080/",
          "height": 34
        },
        "outputId": "070c47db-b111-497b-b0e1-7a0efad8da66"
      },
      "source": [
        "import matplotlib.pyplot as plt\n",
        "import numpy as np\n",
        "\n",
        "from keras.datasets import mnist\n",
        "from keras.layers import Activation, BatchNormalization, Concatenate, Dense, Embedding, Flatten, Input, Multiply, Reshape\n",
        "from keras.layers.advanced_activations import LeakyReLU\n",
        "from keras.layers.convolutional import Conv2D, Conv2DTranspose\n",
        "from keras.models import Model, Sequential\n",
        "from keras.optimizers import Adam"
      ],
      "execution_count": 3,
      "outputs": [
        {
          "output_type": "stream",
          "text": [
            "Using TensorFlow backend.\n"
          ],
          "name": "stderr"
        }
      ]
    },
    {
      "cell_type": "markdown",
      "metadata": {
        "id": "Ap1qRIAekdcT",
        "colab_type": "text"
      },
      "source": [
        "モデルを定義"
      ]
    },
    {
      "cell_type": "code",
      "metadata": {
        "id": "yDJkPU2_khbP",
        "colab_type": "code",
        "colab": {}
      },
      "source": [
        "#入力\n",
        "img_row = 28\n",
        "img_col = 28\n",
        "channels = 1\n",
        "\n",
        "img_shape = (img_row,img_col,channels)\n",
        "\n",
        "z_dim = 100\n",
        "num_classes = 10  #データセットのクラス数"
      ],
      "execution_count": 4,
      "outputs": []
    },
    {
      "cell_type": "code",
      "metadata": {
        "id": "qZ-1qMBXktEF",
        "colab_type": "code",
        "colab": {}
      },
      "source": [
        "#Gモデル\n",
        "def build_generator(z_dim):\n",
        "  model = Sequential()\n",
        "  model.add(Dense(256,input_shape=(z_dim,),activation=\"relu\"))\n",
        "  model.add(Dense(512, activation=\"relu\"))\n",
        "  model.add(Dense(1024, activation=\"relu\"))\n",
        "  model.add(Dense(np.prod(img_shape),activation=\"tanh\"))\n",
        "\n",
        "  model.add(Reshape(img_shape))\n",
        "\n",
        "  model.summary()\n",
        "  return model"
      ],
      "execution_count": 5,
      "outputs": []
    },
    {
      "cell_type": "code",
      "metadata": {
        "id": "BA_q4bh9l8VZ",
        "colab_type": "code",
        "colab": {}
      },
      "source": [
        "#Dモデル\n",
        "def build_discriminator(img_shape):\n",
        "    model = Sequential()\n",
        "    model.add(Flatten(input_shape=img_shape))\n",
        "    model.add(Dense(512, activation=\"relu\"))\n",
        "    model.add(Dense(256,activation=\"relu\"))\n",
        "    model.add(Dense(1,activation=\"relu\"))\n",
        "    model.summary()\n",
        "    return model"
      ],
      "execution_count": 6,
      "outputs": []
    },
    {
      "cell_type": "code",
      "metadata": {
        "id": "Dk1yrdwlsD9P",
        "colab_type": "code",
        "colab": {}
      },
      "source": [
        "#DとGの合併\n",
        "def build_combined1():\n",
        "    discriminator.trainable = False\n",
        "    model = Sequential([generator,discriminator])\n",
        "    return model"
      ],
      "execution_count": 7,
      "outputs": []
    },
    {
      "cell_type": "code",
      "metadata": {
        "id": "yWx6cdTXtB4l",
        "colab_type": "code",
        "colab": {
          "base_uri": "https://localhost:8080/",
          "height": 88
        },
        "outputId": "ae0ee037-4979-450c-a877-cafffc86eafa"
      },
      "source": [
        "optimizer = Adam(0.0002,0.5)"
      ],
      "execution_count": 8,
      "outputs": [
        {
          "output_type": "stream",
          "text": [
            "WARNING:tensorflow:From /tensorflow-1.15.2/python3.6/tensorflow_core/python/ops/resource_variable_ops.py:1630: calling BaseResourceVariable.__init__ (from tensorflow.python.ops.resource_variable_ops) with constraint is deprecated and will be removed in a future version.\n",
            "Instructions for updating:\n",
            "If using Keras pass *_constraint arguments to layers.\n"
          ],
          "name": "stdout"
        }
      ]
    },
    {
      "cell_type": "code",
      "metadata": {
        "id": "0xSRPTSUtPLr",
        "colab_type": "code",
        "colab": {
          "base_uri": "https://localhost:8080/",
          "height": 289
        },
        "outputId": "949281ff-1ae9-44d5-b0d6-96aaa38d3e42"
      },
      "source": [
        "#Dモデル構築\n",
        "discriminator = build_discriminator(img_shape)\n",
        "discriminator.compile(loss=\"binary_crossentropy\",\n",
        "                      optimizer=optimizer,\n",
        "                      metrics=[\"accuracy\"])"
      ],
      "execution_count": 9,
      "outputs": [
        {
          "output_type": "stream",
          "text": [
            "Model: \"sequential_1\"\n",
            "_________________________________________________________________\n",
            "Layer (type)                 Output Shape              Param #   \n",
            "=================================================================\n",
            "flatten_1 (Flatten)          (None, 784)               0         \n",
            "_________________________________________________________________\n",
            "dense_1 (Dense)              (None, 512)               401920    \n",
            "_________________________________________________________________\n",
            "dense_2 (Dense)              (None, 256)               131328    \n",
            "_________________________________________________________________\n",
            "dense_3 (Dense)              (None, 1)                 257       \n",
            "=================================================================\n",
            "Total params: 533,505\n",
            "Trainable params: 533,505\n",
            "Non-trainable params: 0\n",
            "_________________________________________________________________\n"
          ],
          "name": "stdout"
        }
      ]
    },
    {
      "cell_type": "code",
      "metadata": {
        "id": "G3mV3wI4tucK",
        "colab_type": "code",
        "colab": {
          "base_uri": "https://localhost:8080/",
          "height": 323
        },
        "outputId": "508647a3-903b-4893-9387-2d01f3ff5581"
      },
      "source": [
        "#Gモデル構築\n",
        "generator = build_generator(z_dim)\n",
        "combined = build_combined1()\n",
        "combined.compile(loss=\"binary_crossentropy\",\n",
        "                 optimizer=optimizer)"
      ],
      "execution_count": 10,
      "outputs": [
        {
          "output_type": "stream",
          "text": [
            "Model: \"sequential_2\"\n",
            "_________________________________________________________________\n",
            "Layer (type)                 Output Shape              Param #   \n",
            "=================================================================\n",
            "dense_4 (Dense)              (None, 256)               25856     \n",
            "_________________________________________________________________\n",
            "dense_5 (Dense)              (None, 512)               131584    \n",
            "_________________________________________________________________\n",
            "dense_6 (Dense)              (None, 1024)              525312    \n",
            "_________________________________________________________________\n",
            "dense_7 (Dense)              (None, 784)               803600    \n",
            "_________________________________________________________________\n",
            "reshape_1 (Reshape)          (None, 28, 28, 1)         0         \n",
            "=================================================================\n",
            "Total params: 1,486,352\n",
            "Trainable params: 1,486,352\n",
            "Non-trainable params: 0\n",
            "_________________________________________________________________\n"
          ],
          "name": "stdout"
        }
      ]
    },
    {
      "cell_type": "markdown",
      "metadata": {
        "id": "H9pgaNvZwPgD",
        "colab_type": "text"
      },
      "source": [
        "学習部分"
      ]
    },
    {
      "cell_type": "code",
      "metadata": {
        "id": "ykggHi0owT_g",
        "colab_type": "code",
        "colab": {}
      },
      "source": [
        "def train(epochs,batch_size,save_interval):\n",
        "    (X_train,_),(_,_) = mnist.load_data()\n",
        "\n",
        "    #正規化\n",
        "    X_train = (X_train.astype(np.float32) - 127.5) / 127.5\n",
        "    X_train = np.expand_dims(X_train,axis=3)\n",
        "\n",
        "    half_batch = int(batch_size / 2)\n",
        "\n",
        "    for epoch in range(epochs):\n",
        "        save_imgs(epoch)\n",
        "        for iteration in range(batch_size):\n",
        "            noise = np.random.normal(0, 1, (half_batch, z_dim))\n",
        "            gen_imgs = generator.predict(noise)\n",
        "\n",
        "            idx = np.random.randint(0, X_train.shape[0],half_batch)\n",
        "            imgs = X_train[idx]\n",
        "\n",
        "            #Dの学習\n",
        "            d_loss_real = discriminator.train_on_batch(imgs,\n",
        "                                                       np.ones((half_batch,1)))\n",
        "            d_loss_fake = discriminator.train_on_batch(gen_imgs,\n",
        "                                                       np.zeros((half_batch,1)))\n",
        "            d_loss = 0.5 * np.add(d_loss_real, d_loss_fake)\n",
        "\n",
        "\n",
        "            #Gの学習\n",
        "            noise = np.random.normal(0,1,(batch_size,z_dim))\n",
        "            valid_y = np.array([1] * batch_size)\n",
        "            g_loss = combined.train_on_batch(noise,valid_y)\n"
      ],
      "execution_count": 15,
      "outputs": []
    },
    {
      "cell_type": "markdown",
      "metadata": {
        "id": "CYSalItYzDOd",
        "colab_type": "text"
      },
      "source": [
        "保存"
      ]
    },
    {
      "cell_type": "code",
      "metadata": {
        "id": "GRV-RbXOzE0s",
        "colab_type": "code",
        "colab": {}
      },
      "source": [
        "def save_imgs(epoch):\n",
        "    r,c = 5,5\n",
        "\n",
        "    noise = np.random.normal(0,1,(r*c,z_dim))\n",
        "    gen_imgs = generator.predict(noise)\n",
        "    gen_imgs = 0.5 * gen_imgs + 0.5\n",
        "\n",
        "    fig,axs = plt.subplots(r,c)\n",
        "    cnt = 0\n",
        "    for i in range(r):\n",
        "        for j in range(c):\n",
        "            axs[i,j].imshow(gen_imgs[cnt,:,:,0],cmap=\"gray\")\n",
        "            axs[i,j].axis(\"off\")\n",
        "            cnt += 1\n",
        "    fig.savefig(f\"mnist_{epoch}.png\")\n",
        "    plt.close()"
      ],
      "execution_count": 16,
      "outputs": []
    },
    {
      "cell_type": "markdown",
      "metadata": {
        "id": "6wlYvJvl0BPT",
        "colab_type": "text"
      },
      "source": [
        "実行"
      ]
    },
    {
      "cell_type": "code",
      "metadata": {
        "id": "zWn_E1Rs0F1T",
        "colab_type": "code",
        "colab": {
          "base_uri": "https://localhost:8080/",
          "height": 88
        },
        "outputId": "a255dcd5-d3ae-4d9c-d331-37e447a13791"
      },
      "source": [
        "import time\n",
        "\n",
        "t1 = time.time()\n",
        "train(epochs=100,batch_size=100,save_interval=5)\n",
        "t2 = time.time()\n",
        "\n",
        "elapsed_time = t2 - t1\n",
        "print(f\"経過時間：{elapsed_time}\")"
      ],
      "execution_count": 17,
      "outputs": [
        {
          "output_type": "stream",
          "text": [
            "/tensorflow-1.15.2/python3.6/keras/engine/training.py:297: UserWarning: Discrepancy between trainable weights and collected trainable weights, did you set `model.trainable` without calling `model.compile` after ?\n",
            "  'Discrepancy between trainable weights and collected trainable'\n"
          ],
          "name": "stderr"
        },
        {
          "output_type": "stream",
          "text": [
            "経過時間：175.86712408065796\n"
          ],
          "name": "stdout"
        }
      ]
    },
    {
      "cell_type": "code",
      "metadata": {
        "id": "mxweHhPt2M5F",
        "colab_type": "code",
        "colab": {}
      },
      "source": [
        ""
      ],
      "execution_count": null,
      "outputs": []
    }
  ]
}